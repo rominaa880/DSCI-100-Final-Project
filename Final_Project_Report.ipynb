{
 "cells": [
  {
   "cell_type": "markdown",
   "id": "f4a69695-652e-485d-936a-0ee57f25ef4c",
   "metadata": {},
   "source": [
    "# Data Science 100 Final Project Report:\n",
    "Exploration of How Playing Time Relates to a Player's Experience Level"
   ]
  },
  {
   "cell_type": "markdown",
   "id": "5c8b9b65-1736-46a5-8048-c8ca49415b9e",
   "metadata": {},
   "source": [
    "**Introduction**\n",
    "\n",
    "Minecraft is a popular gaming platform that allows its users to build, customize and explore worlds in different modes. A research group at UBC in the Computer Science department was led by Frank Wood in order to have recorded player actions and other data as they played on a designated Minecraft server. The objective of collecting this data was to explore how people play videogames, but several questions of interest regarding player behaviour and characteristics arise to help refine this research process. The focus of the following report is to explore the question: Can the individual playing times be used to predict a players experience level in the players.csv dataset? The intended result of answering this question is to create a functional model that can ideally be trained by the dataset to accurately predict a players experience level based on their playing time. This, in turn can allow the research group to determine the experience levels with higher playing times and focus recruiting efforts on those groups - as they contribute the most amount of data to the research. \n",
    "\n",
    "As previously indicated, this report will be utilizing the players.csv dataset, a 7 column table with 196 recorded observations. The 7 variables included in the table are:\n",
    "    \n",
    "    - experience = Experience level of player (factor)\n",
    "    \n",
    "    - subscribe = If the player is subscribed to a game-related newsletter (logical)\n",
    "    \n",
    "    - hashedEmail = The hashed (encrypted) email of the player (character)\n",
    "    \n",
    "    - played_hours = Number of hours played (double)\n",
    "    \n",
    "    - name = The players name (character)\n",
    "    \n",
    "    - gender = The players gender (factor)\n",
    "    \n",
    "    - Age = Age of the player (integer)\n",
    "\n",
    "As is, the dataset is in a relatively tidy format that will allow for effective data analysis to occur - each row is a single observation, each column is a single variable, and each value is in a single cell. A potential issue may be in how the dataset is read in by R, where the variable type could be misinterpreted - however such issues can be dealt with as they arise."
   ]
  },
  {
   "cell_type": "code",
   "execution_count": null,
   "id": "94e2872d-01c8-4d77-aa93-a6e40ec1b677",
   "metadata": {},
   "outputs": [],
   "source": []
  }
 ],
 "metadata": {
  "kernelspec": {
   "display_name": "R",
   "language": "R",
   "name": "ir"
  },
  "language_info": {
   "codemirror_mode": "r",
   "file_extension": ".r",
   "mimetype": "text/x-r-source",
   "name": "R",
   "pygments_lexer": "r",
   "version": "4.3.3"
  }
 },
 "nbformat": 4,
 "nbformat_minor": 5
}
